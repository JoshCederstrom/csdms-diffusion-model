{
 "cells": [
  {
   "cell_type": "markdown",
   "id": "27bbf630-4bde-40f0-8294-56cae10eccce",
   "metadata": {},
   "source": [
    "#  1D Diffusion Model"
   ]
  },
  {
   "cell_type": "markdown",
   "id": "cceeaa30-6128-4d5b-9bcb-28d851ec2cf1",
   "metadata": {},
   "source": [
    "https://github.com/csdms/roadshow-diffusion"
   ]
  },
  {
   "cell_type": "markdown",
   "id": "56a60839-4abf-453f-911b-b4d678dc3e7d",
   "metadata": {},
   "source": [
    "Here we develop a one-dimensional model of diffusion.\n",
    "It assumes a constant diffusivity.\n",
    "It uses a regular grid.\n",
    "It has a step function for an initial condition.\n",
    "It has fixed boundary conditions."
   ]
  },
  {
   "cell_type": "markdown",
   "id": "0585368d-fd45-46e9-9a7b-12e9c4070596",
   "metadata": {},
   "source": [
    "Here is the diffusion equation:"
   ]
  },
  {
   "cell_type": "markdown",
   "id": "bd39a0e4-f2e9-45ba-bd03-39162372e8b9",
   "metadata": {},
   "source": [
    "$$ \\frac{\\partial C}{\\partial t} = D\\frac{\\partial^2 C}{\\partial x^2} $$"
   ]
  },
  {
   "cell_type": "markdown",
   "id": "f4ef8a51-43ec-4b73-ae60-821053ac2691",
   "metadata": {},
   "source": [
    "Here is the discretized version of the diffusion equation we will solve with our model"
   ]
  },
  {
   "cell_type": "markdown",
   "id": "f6e8a54e-26cb-4db4-8f12-dbf22dd65aaf",
   "metadata": {},
   "source": [
    "$$ C^{t+1}_x = C^t_x + {D \\Delta t \\over \\Delta x^2} (C^t_{x+1} - 2C^t_x + C^t_{x-1}) $$"
   ]
  },
  {
   "cell_type": "markdown",
   "id": "94eb2411-feed-442d-9e31-4a408af83279",
   "metadata": {},
   "source": [
    "This is the FTCS scheme as described by Slingerland and Kump (2011)"
   ]
  },
  {
   "cell_type": "markdown",
   "id": "d6f13d52-1afb-4c87-a9de-ad087346d88e",
   "metadata": {},
   "source": [
    "We'll use two libraries , NumPy (for array) & Matplotlib (for plotting, that aren't a part of the core Python distribution."
   ]
  },
  {
   "cell_type": "code",
   "execution_count": null,
   "id": "d94dcfcf-332c-4124-842e-dd31328ae723",
   "metadata": {},
   "outputs": [],
   "source": [
    "import numpy as np\n",
    "import matplotlib.pyplot as plt"
   ]
  },
  {
   "cell_type": "markdown",
   "id": "59fba08d-0679-49a7-83e1-ec62612e3927",
   "metadata": {},
   "source": [
    "Start by setting two fixed model parameters, the diffusivity and size of the model domain."
   ]
  },
  {
   "cell_type": "code",
   "execution_count": null,
   "id": "32325798-1abf-4f6a-99c9-93e8e97d3ff8",
   "metadata": {},
   "outputs": [],
   "source": [
    "D = 100\n",
    "Lx = 300"
   ]
  },
  {
   "cell_type": "markdown",
   "id": "f0cb8f4d-2fa3-42f3-b1ce-bd4d95513374",
   "metadata": {},
   "source": [
    "Next, set up the model grid using a NumPy array."
   ]
  },
  {
   "cell_type": "code",
   "execution_count": null,
   "id": "430ce022-5331-4115-b8af-e5573529409c",
   "metadata": {},
   "outputs": [],
   "source": [
    "dx = 0.5\n",
    "x = np.arange(start=0, stop=Lx, step=dx)\n",
    "nx = len(x)"
   ]
  },
  {
   "cell_type": "markdown",
   "id": "76c0020d-b510-4fdb-a9f7-c955cb52c0c7",
   "metadata": {},
   "source": [
    "Set the initial conditions for the model.\n",
    "The cake 'C\" is a step function with a high value of the left, a low value on the right, and a step at the center of the domain."
   ]
  },
  {
   "cell_type": "code",
   "execution_count": null,
   "id": "d1c02026-0b52-49f3-ac3f-16d693d67f0f",
   "metadata": {},
   "outputs": [],
   "source": [
    "C = np.zeros_like(x)\n",
    "c_left = 500\n",
    "c_right = 0\n",
    "C[x <= (Lx / 2)] = c_left # we could easily do this w/ subscripting instead of this\n",
    "C[x > (Lx / 2)] = c_right"
   ]
  },
  {
   "cell_type": "markdown",
   "id": "c72c6c1a-df14-4eb4-98f2-1e3feecdb788",
   "metadata": {},
   "source": [
    "Plot the initial profile"
   ]
  },
  {
   "cell_type": "code",
   "execution_count": null,
   "id": "257a5b76-158d-4067-8155-2533b6aae749",
   "metadata": {},
   "outputs": [],
   "source": [
    "plt.figure()\n",
    "plt.plot(x, C, \"r\")\n",
    "plt.xlabel(\"x\")\n",
    "plt.ylabel(\"C\")\n",
    "plt.title(\"Initial Profile\")"
   ]
  },
  {
   "cell_type": "markdown",
   "id": "fc8929e3-ef72-4f2a-bd7d-2a093bf0e34e",
   "metadata": {},
   "source": [
    "Set the number of time steps in the model. Calculate a stable timestep using a stability criterion."
   ]
  },
  {
   "cell_type": "code",
   "execution_count": null,
   "id": "c22b8dd4-a0a5-4305-82d7-fb68b575d31f",
   "metadata": {},
   "outputs": [],
   "source": [
    "nt = 5000\n",
    "dt = 0.5 * dx ** 2 / D # \"vo noiman\" stability criterion"
   ]
  },
  {
   "cell_type": "markdown",
   "id": "5d142ea7-29ec-4bf1-aebe-8da34a153f10",
   "metadata": {},
   "source": [
    "Loop over the time step of the model, solving the diffusion equation using the FTCS scheme shown above.\n",
    "Note the use of  array operations on the variable 'C'.\n",
    "The boundary conditions remian fixed in each timestep."
   ]
  },
  {
   "cell_type": "code",
   "execution_count": null,
   "id": "30ebbfa8-503d-4107-9bc1-6f812c3049c6",
   "metadata": {},
   "outputs": [],
   "source": [
    "for t in range(0, nt):\n",
    "    C[1:-1] += D * dt / dx ** 2 * (C[:-2] - 2*C[1:-1] + C[2:])\n",
    "# C[1:-1] because we are miantaining our boundary conditions 'c_left' & 'c_right'"
   ]
  },
  {
   "cell_type": "code",
   "execution_count": null,
   "id": "0ce44163-f580-4292-b25b-c71fa0d256c2",
   "metadata": {},
   "outputs": [],
   "source": [
    "plt.figure()\n",
    "plt.plot(x, C, \"r\")\n",
    "plt.xlabel(\"x\")\n",
    "plt.ylabel(\"C\")\n",
    "plt.title(\"Initial Profile\")"
   ]
  }
 ],
 "metadata": {
  "kernelspec": {
   "display_name": "Ivy",
   "language": "python",
   "name": "ivy"
  },
  "language_info": {
   "codemirror_mode": {
    "name": "ipython",
    "version": 3
   },
   "file_extension": ".py",
   "mimetype": "text/x-python",
   "name": "python",
   "nbconvert_exporter": "python",
   "pygments_lexer": "ipython3",
   "version": "3.13.3"
  }
 },
 "nbformat": 4,
 "nbformat_minor": 5
}
